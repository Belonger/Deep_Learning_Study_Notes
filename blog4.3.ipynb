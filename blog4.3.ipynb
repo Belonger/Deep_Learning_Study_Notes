{
 "cells": [
  {
   "cell_type": "code",
   "execution_count": 1,
   "metadata": {},
   "outputs": [],
   "source": [
    "import torch\n",
    "import random\n",
    "from torch.utils import data\n",
    "from d2l import torch as d2l"
   ]
  },
  {
   "cell_type": "code",
   "execution_count": 2,
   "metadata": {},
   "outputs": [],
   "source": [
    "true_w = torch.tensor([5.0, 5.0])\n",
    "true_b = 5.0\n",
    "features, labels = d2l.synthetic_data(true_w, true_b, 1000)    # true_w为参数，true_b为偏差"
   ]
  },
  {
   "cell_type": "code",
   "execution_count": 3,
   "metadata": {},
   "outputs": [],
   "source": [
    "# def load_array(data_arrays, batch_size, is_train=True):\n",
    "#     # 对于给定的tensor数据(样本和标签),将它们包装成dataset\n",
    "#     # 也就是将训练数据的特征和标签组合\n",
    "#     dataset = data.TensorDataset(*data_arrays)    \n",
    "    \n",
    "#     return data.DataLoader(dataset, batch_size, shuffle=is_train)\n",
    "\n",
    "def load_array(features, labels, batch_size, is_shuffle):\n",
    "    # 将训练数据中的特征和标签组合\n",
    "    dataset = data.TensorDataset(features, labels)\n",
    "    \n",
    "    # DataLoader数据加载器，组合数据集和采样器，并在数据集上提供单线程或多线程迭代器\n",
    "    # 对dataset作进一步的设置\n",
    "    return data.DataLoader(dataset, batch_size, shuffle=is_shuffle)"
   ]
  },
  {
   "cell_type": "code",
   "execution_count": 4,
   "metadata": {},
   "outputs": [],
   "source": [
    "batch_size=10\n",
    "# data_iter = load_array((features, labels), batch_size)\n",
    "data_iter = load_array(features, labels, batch_size, True)"
   ]
  },
  {
   "cell_type": "code",
   "execution_count": 5,
   "metadata": {},
   "outputs": [],
   "source": [
    "from torch import nn    # nn为神经网络的缩写\n",
    "\n",
    "# nn.Sequential()为一个有序的容器\n",
    "# 神经网络模块将按照在传入构造器的顺序依次被添加到计算图中执行，同时以神经网络模块为元素的有序字典也可以作为传入参数\n",
    "\n",
    "# nn.Linear(x, y, bias=True)\n",
    "# x为输入的神经元个数，y为输出的神经元个数，考虑偏置\n",
    "# 该函数实现功能：制造出一个全连接层的框架，即y = X * W.T + b\n",
    "net = nn.Sequential(nn.Linear(2, 1))"
   ]
  },
  {
   "cell_type": "code",
   "execution_count": 6,
   "metadata": {},
   "outputs": [
    {
     "name": "stdout",
     "output_type": "stream",
     "text": [
      "Sequential(\n",
      "  (0): Linear(in_features=2, out_features=1, bias=True)\n",
      ")\n"
     ]
    }
   ],
   "source": [
    "print(net)    # 可以看到在Sequential中第0层为全连接层，输入两个神经元，输出两个神经元，有偏置"
   ]
  },
  {
   "cell_type": "code",
   "execution_count": 7,
   "metadata": {},
   "outputs": [
    {
     "data": {
      "text/plain": [
       "Parameter containing:\n",
       "tensor([[-0.1468, -0.5505]], requires_grad=True)"
      ]
     },
     "execution_count": 7,
     "metadata": {},
     "output_type": "execute_result"
    }
   ],
   "source": [
    "net[0].weight    # 随机给权重值"
   ]
  },
  {
   "cell_type": "code",
   "execution_count": 8,
   "metadata": {},
   "outputs": [
    {
     "data": {
      "text/plain": [
       "Parameter containing:\n",
       "tensor([0.3911], requires_grad=True)"
      ]
     },
     "execution_count": 8,
     "metadata": {},
     "output_type": "execute_result"
    }
   ],
   "source": [
    "net[0].bias    # 随机给偏置值"
   ]
  },
  {
   "cell_type": "code",
   "execution_count": 9,
   "metadata": {},
   "outputs": [
    {
     "data": {
      "text/plain": [
       "(Parameter containing:\n",
       " tensor([[ 100., -100.]], requires_grad=True), Parameter containing:\n",
       " tensor([100.], requires_grad=True))"
      ]
     },
     "execution_count": 9,
     "metadata": {},
     "output_type": "execute_result"
    }
   ],
   "source": [
    "net[0].weight.data = torch.tensor([[100.0, -100.0]])\n",
    "net[0].bias.data = torch.tensor([100.])\n",
    "net[0].weight, net[0].bias"
   ]
  },
  {
   "cell_type": "code",
   "execution_count": 10,
   "metadata": {},
   "outputs": [],
   "source": [
    "# 均方误差函数\n",
    "loss = nn.MSELoss()\n",
    "# a = torch.tensor([5.0]).reshape(1, 1)\n",
    "# b = torch.tensor([8.0]).reshape(1, 1)\n",
    "# a, b, loss(a, b)"
   ]
  },
  {
   "cell_type": "code",
   "execution_count": 11,
   "metadata": {},
   "outputs": [],
   "source": [
    "# torch.optim为一个实现了各种优化算法的库\n",
    "trainer = torch.optim.SGD(net[0].parameters(), lr=0.003)"
   ]
  },
  {
   "cell_type": "code",
   "execution_count": 12,
   "metadata": {},
   "outputs": [
    {
     "name": "stdout",
     "output_type": "stream",
     "text": [
      "epoch 1 : w tensor([[ 55.3043, -51.0336]]) b tensor([57.7154])\n",
      "epoch 2 : w tensor([[ 31.6078, -24.9339]]) b tensor([34.2498])\n",
      "epoch 3 : w tensor([[ 19.0642, -11.0066]]) b tensor([21.2264])\n",
      "epoch 4 : w tensor([[12.4301, -3.5637]]) b tensor([13.9954])\n",
      "epoch 5 : w tensor([[8.9176, 0.4092]]) b tensor([9.9863])\n",
      "epoch 6 : w tensor([[7.0618, 2.5376]]) b tensor([7.7657])\n",
      "epoch 7 : w tensor([[6.0858, 3.6774]]) b tensor([6.5317])\n",
      "epoch 8 : w tensor([[5.5708, 4.2885]]) b tensor([5.8482])\n",
      "epoch 9 : w tensor([[5.2996, 4.6167]]) b tensor([5.4696])\n",
      "epoch 10 : w tensor([[5.1573, 4.7932]]) b tensor([5.2598])\n",
      "epoch 11 : w tensor([[5.0823, 4.8881]]) b tensor([5.1437])\n",
      "epoch 12 : w tensor([[5.0431, 4.9393]]) b tensor([5.0793])\n",
      "epoch 13 : w tensor([[5.0227, 4.9668]]) b tensor([5.0437])\n",
      "epoch 14 : w tensor([[5.0120, 4.9817]]) b tensor([5.0240])\n",
      "epoch 15 : w tensor([[5.0064, 4.9897]]) b tensor([5.0130])\n",
      "epoch 16 : w tensor([[5.0035, 4.9941]]) b tensor([5.0070])\n",
      "epoch 17 : w tensor([[5.0020, 4.9964]]) b tensor([5.0036])\n",
      "epoch 18 : w tensor([[5.0011, 4.9977]]) b tensor([5.0018])\n",
      "epoch 19 : w tensor([[5.0008, 4.9985]]) b tensor([5.0008])\n",
      "epoch 20 : w tensor([[5.0005, 4.9989]]) b tensor([5.0002])\n",
      "epoch 21 : w tensor([[5.0004, 4.9991]]) b tensor([4.9998])\n",
      "epoch 22 : w tensor([[5.0004, 4.9992]]) b tensor([4.9997])\n",
      "epoch 23 : w tensor([[5.0004, 4.9992]]) b tensor([4.9996])\n",
      "epoch 24 : w tensor([[5.0003, 4.9993]]) b tensor([4.9996])\n",
      "epoch 25 : w tensor([[5.0003, 4.9993]]) b tensor([4.9995])\n",
      "epoch 26 : w tensor([[5.0003, 4.9993]]) b tensor([4.9995])\n",
      "epoch 27 : w tensor([[5.0003, 4.9993]]) b tensor([4.9995])\n",
      "epoch 28 : w tensor([[5.0003, 4.9993]]) b tensor([4.9995])\n",
      "epoch 29 : w tensor([[5.0003, 4.9994]]) b tensor([4.9995])\n",
      "epoch 30 : w tensor([[5.0004, 4.9993]]) b tensor([4.9995])\n"
     ]
    }
   ],
   "source": [
    "num_epoch = 30\n",
    "for epoch in range(num_epoch):\n",
    "    for X, y in data_iter:\n",
    "        l = loss(net[0](X), y)\n",
    "        trainer.zero_grad()   # 把前一次计算的梯度清零\n",
    "        l.backward()          # pytorch中已经给我们自动计算sum()，不用我们自己l.sum()了\n",
    "        trainer.step()        # 进行梯度的更新:w -= lr * ( d( loss(w, b) ) / d( w ) )\n",
    "    l = loss(net[0](features), labels)\n",
    "    print(f'epoch {epoch + 1} : w {net[0].weight.data} b {net[0].bias.data}')"
   ]
  },
  {
   "cell_type": "code",
   "execution_count": null,
   "metadata": {},
   "outputs": [],
   "source": []
  },
  {
   "cell_type": "code",
   "execution_count": null,
   "metadata": {},
   "outputs": [],
   "source": []
  },
  {
   "cell_type": "code",
   "execution_count": null,
   "metadata": {},
   "outputs": [],
   "source": []
  }
 ],
 "metadata": {
  "kernelspec": {
   "display_name": "Python 3",
   "language": "python",
   "name": "python3"
  },
  "language_info": {
   "codemirror_mode": {
    "name": "ipython",
    "version": 3
   },
   "file_extension": ".py",
   "mimetype": "text/x-python",
   "name": "python",
   "nbconvert_exporter": "python",
   "pygments_lexer": "ipython3",
   "version": "3.7.4"
  }
 },
 "nbformat": 4,
 "nbformat_minor": 2
}
