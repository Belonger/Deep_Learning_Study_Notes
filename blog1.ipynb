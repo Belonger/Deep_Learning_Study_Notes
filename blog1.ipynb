{
 "cells": [
  {
   "cell_type": "code",
   "execution_count": 1,
   "metadata": {},
   "outputs": [],
   "source": [
    "import torch\n",
    "import pandas as pd\n",
    "import numpy as np\n",
    "import matplotlib as mpl\n",
    "import matplotlib.pyplot as plt\n",
    "%matplotlib inline"
   ]
  },
  {
   "cell_type": "code",
   "execution_count": 2,
   "metadata": {},
   "outputs": [
    {
     "data": {
      "text/plain": [
       "(tensor([[  1, 101],\n",
       "         [  5,  89],\n",
       "         [108,   5],\n",
       "         [115,   8]]), tensor([0, 0, 1, 1]))"
      ]
     },
     "execution_count": 2,
     "metadata": {},
     "output_type": "execute_result"
    }
   ],
   "source": [
    "group = torch.tensor([[1,101],[5,89],[108,5],[115,8]])\n",
    "labels = torch.tensor([0,0,1,1])    # 0表示爱情片，1表示动作片\n",
    "group, labels"
   ]
  },
  {
   "cell_type": "code",
   "execution_count": 3,
   "metadata": {},
   "outputs": [
    {
     "data": {
      "text/plain": [
       "tensor([[  0, 100],\n",
       "        [  4,  88],\n",
       "        [107,   4],\n",
       "        [114,   7]])"
      ]
     },
     "execution_count": 3,
     "metadata": {},
     "output_type": "execute_result"
    }
   ],
   "source": [
    "# 相减    # 在这里我的tensor([1,1])，就相当于测试数据\n",
    "diff_data = group - torch.tensor([1,1])\n",
    "diff_data"
   ]
  },
  {
   "cell_type": "code",
   "execution_count": 4,
   "metadata": {},
   "outputs": [
    {
     "data": {
      "text/plain": [
       "tensor([[    0, 10000],\n",
       "        [   16,  7744],\n",
       "        [11449,    16],\n",
       "        [12996,    49]])"
      ]
     },
     "execution_count": 4,
     "metadata": {},
     "output_type": "execute_result"
    }
   ],
   "source": [
    "# 平方 \n",
    "diff_data = diff_data**2\n",
    "diff_data"
   ]
  },
  {
   "cell_type": "code",
   "execution_count": 5,
   "metadata": {},
   "outputs": [
    {
     "data": {
      "text/plain": [
       "tensor([[10000],\n",
       "        [ 7760],\n",
       "        [11465],\n",
       "        [13045]])"
      ]
     },
     "execution_count": 5,
     "metadata": {},
     "output_type": "execute_result"
    }
   ],
   "source": [
    "# 列于列相加\n",
    "diff_data = diff_data.sum_to_size(4,1)\n",
    "diff_data"
   ]
  },
  {
   "cell_type": "code",
   "execution_count": 6,
   "metadata": {},
   "outputs": [
    {
     "data": {
      "text/plain": [
       "tensor([[100.0000],\n",
       "        [ 88.0909],\n",
       "        [107.0747],\n",
       "        [114.2147]])"
      ]
     },
     "execution_count": 6,
     "metadata": {},
     "output_type": "execute_result"
    }
   ],
   "source": [
    "# 开方\n",
    "diff_data = diff_data**0.5\n",
    "diff_data"
   ]
  },
  {
   "cell_type": "code",
   "execution_count": 7,
   "metadata": {
    "scrolled": true
   },
   "outputs": [
    {
     "data": {
      "text/plain": [
       "(tensor([[ 88.0909],\n",
       "         [100.0000],\n",
       "         [107.0747],\n",
       "         [114.2147]]), tensor([[1],\n",
       "         [0],\n",
       "         [2],\n",
       "         [3]]))"
      ]
     },
     "execution_count": 7,
     "metadata": {},
     "output_type": "execute_result"
    }
   ],
   "source": [
    "# 从小到大进行排序\n",
    "sort, index = torch.sort(diff_data, dim = 0, descending = False)    # 对于二维数据，dim = 0则是按行排序, dim = 1按列排序\n",
    "sort, index"
   ]
  },
  {
   "cell_type": "code",
   "execution_count": 8,
   "metadata": {},
   "outputs": [],
   "source": [
    "# 现在是我没有办法用torch得到张量中的每个数在全部元素中占第几\n",
    "# 例如tensor([4,3,5,1]),可以得到tensor([1,3,4,5]),但是得不到[2,1,3,0]\n",
    "# 下面就要解决这个问题"
   ]
  },
  {
   "cell_type": "code",
   "execution_count": 9,
   "metadata": {},
   "outputs": [],
   "source": [
    "diff_data = diff_data.reshape(1,4)"
   ]
  },
  {
   "cell_type": "code",
   "execution_count": 10,
   "metadata": {},
   "outputs": [
    {
     "data": {
      "text/plain": [
       "array([[100.     ,  88.09086, 107.07474, 114.21471]], dtype=float32)"
      ]
     },
     "execution_count": 10,
     "metadata": {},
     "output_type": "execute_result"
    }
   ],
   "source": [
    "diff_data = np.array(diff_data)\n",
    "diff_data"
   ]
  },
  {
   "cell_type": "code",
   "execution_count": 11,
   "metadata": {},
   "outputs": [
    {
     "data": {
      "text/plain": [
       "array([[1, 0, 2, 3]], dtype=int64)"
      ]
     },
     "execution_count": 11,
     "metadata": {},
     "output_type": "execute_result"
    }
   ],
   "source": [
    "diff_data_indices = diff_data.argsort()\n",
    "diff_data_indices"
   ]
  },
  {
   "cell_type": "code",
   "execution_count": 12,
   "metadata": {},
   "outputs": [
    {
     "data": {
      "text/plain": [
       "array([1, 0, 2, 3], dtype=int64)"
      ]
     },
     "execution_count": 12,
     "metadata": {},
     "output_type": "execute_result"
    }
   ],
   "source": [
    "diff_data_indices = diff_data_indices.flatten()   # 数据从多维结构降到一维，只是维度的变化，数据的量并不变化\n",
    "diff_data_indices"
   ]
  },
  {
   "cell_type": "code",
   "execution_count": 13,
   "metadata": {},
   "outputs": [
    {
     "data": {
      "text/plain": [
       "array([0, 0, 1, 1], dtype=int64)"
      ]
     },
     "execution_count": 13,
     "metadata": {},
     "output_type": "execute_result"
    }
   ],
   "source": [
    "labels = np.array(labels)\n",
    "labels"
   ]
  },
  {
   "cell_type": "code",
   "execution_count": 14,
   "metadata": {},
   "outputs": [
    {
     "data": {
      "text/plain": [
       "{0: 2, 1: 1}"
      ]
     },
     "execution_count": 14,
     "metadata": {},
     "output_type": "execute_result"
    }
   ],
   "source": [
    "# 定义一个记录类别次数的字典\n",
    "classCount = {}\n",
    "for i in range(3):\n",
    "    get_label = labels[diff_data_indices[i]]\n",
    "    if get_label not in classCount.keys():\n",
    "        classCount[get_label] = 0\n",
    "    classCount[get_label] += 1\n",
    "classCount "
   ]
  },
  {
   "cell_type": "code",
   "execution_count": 15,
   "metadata": {},
   "outputs": [
    {
     "data": {
      "text/plain": [
       "[(0, 2), (1, 1)]"
      ]
     },
     "execution_count": 15,
     "metadata": {},
     "output_type": "execute_result"
    }
   ],
   "source": [
    "classCount_order = sorted(classCount.items(),key=lambda x:x[1], reverse=True)\n",
    "classCount_order"
   ]
  },
  {
   "cell_type": "code",
   "execution_count": 16,
   "metadata": {},
   "outputs": [
    {
     "data": {
      "text/plain": [
       "0"
      ]
     },
     "execution_count": 16,
     "metadata": {},
     "output_type": "execute_result"
    }
   ],
   "source": [
    "classCount_order[0][0]"
   ]
  },
  {
   "cell_type": "code",
   "execution_count": 17,
   "metadata": {},
   "outputs": [],
   "source": [
    "# 写成一个函数\n",
    "# 传进来参数为：待测试的数据，配套的数据集加标签，选取前k个标签进行筛选\n",
    "# 返回参数为：对于待测试数据预测的一个标签\n",
    "# 先减，在平方，在相加，在开方，在进行下面的一系列操作\n",
    "def predicted_label(test, train, labels, k):    # tensor tensor list int\n",
    "    diff = train - test\n",
    "    diff = diff**2\n",
    "    diff = diff.sum_to_size(len(diff), 1)\n",
    "    diff = diff**0.5\n",
    "    diff = np.array(diff).reshape(-1)\n",
    "    diff_indices = diff.argsort()\n",
    "    dir_label = {}\n",
    "    for i in range(k):\n",
    "        get_label = labels[diff_indices[i]]\n",
    "        if get_label not in dir_label.keys():\n",
    "            dir_label[get_label] = 0\n",
    "        dir_label[get_label] += 1\n",
    "    dir_label_order = sorted(dir_label.items(), key = lambda x:x[1], reverse = True)\n",
    "    return dir_label_order[0][0]"
   ]
  },
  {
   "cell_type": "code",
   "execution_count": 18,
   "metadata": {},
   "outputs": [
    {
     "data": {
      "text/plain": [
       "1"
      ]
     },
     "execution_count": 18,
     "metadata": {},
     "output_type": "execute_result"
    }
   ],
   "source": [
    "train = torch.tensor([[1,101],[5,89],[108,5],[115,8]])\n",
    "labels = [0,0,1,1]\n",
    "test = torch.tensor([100,20])\n",
    "k = 3\n",
    "ans = predicted_label(test, train, labels, k)\n",
    "ans"
   ]
  },
  {
   "cell_type": "code",
   "execution_count": 19,
   "metadata": {},
   "outputs": [
    {
     "data": {
      "image/png": "[encoded data removed]",
      "text/plain": [
       "<Figure size 432x288 with 1 Axes>"
      ]
     },
     "metadata": {
      "needs_background": "light"
     },
     "output_type": "display_data"
    }
   ],
   "source": [
    "# 画图验证是否正确\n",
    "plt.scatter(train[:,0], train[:,1], marker='o')\n",
    "plt.title('not add test data')\n",
    "plt.show()"
   ]
  },
  {
   "cell_type": "code",
   "execution_count": 20,
   "metadata": {},
   "outputs": [],
   "source": [
    "train_list = train.tolist()\n",
    "test_list = test.tolist()\n",
    "train_list.append(test_list)\n",
    "train_np = np.array(train_list)"
   ]
  },
  {
   "cell_type": "code",
   "execution_count": 21,
   "metadata": {},
   "outputs": [
    {
     "data": {
      "image/png": "[encoded data removed]",
      "text/plain": [
       "<Figure size 432x288 with 1 Axes>"
      ]
     },
     "metadata": {
      "needs_background": "light"
     },
     "output_type": "display_data"
    }
   ],
   "source": [
    "plt.scatter(train_np[:,0], train_np[:,1], marker='o')\n",
    "plt.title('add test data')\n",
    "plt.show()"
   ]
  },
  {
   "cell_type": "code",
   "execution_count": null,
   "metadata": {},
   "outputs": [],
   "source": []
  },
  {
   "cell_type": "code",
   "execution_count": null,
   "metadata": {},
   "outputs": [],
   "source": []
  }
 ],
 "metadata": {
  "kernelspec": {
   "display_name": "Python 3",
   "language": "python",
   "name": "python3"
  },
  "language_info": {
   "codemirror_mode": {
    "name": "ipython",
    "version": 3
   },
   "file_extension": ".py",
   "mimetype": "text/x-python",
   "name": "python",
   "nbconvert_exporter": "python",
   "pygments_lexer": "ipython3",
   "version": "3.7.4"
  }
 },
 "nbformat": 4,
 "nbformat_minor": 2
}
